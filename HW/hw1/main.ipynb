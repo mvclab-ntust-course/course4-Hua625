{
 "cells": [
  {
   "cell_type": "code",
   "execution_count": 64,
   "metadata": {},
   "outputs": [],
   "source": [
    "import cv2\n",
    "from ultralytics import YOLO"
   ]
  },
  {
   "cell_type": "code",
   "execution_count": 65,
   "metadata": {},
   "outputs": [],
   "source": [
    "# 載入模型\n",
    "model = YOLO('yolov8s.pt')\n",
    "\n",
    "# 讀取影片檔案\n",
    "cap = cv2.VideoCapture('argoverse.mp4')"
   ]
  },
  {
   "cell_type": "code",
   "execution_count": 66,
   "metadata": {},
   "outputs": [],
   "source": [
    "# 確認影片成功打開\n",
    "if not cap.isOpened():\n",
    "    print(\"Error: File can not be opened\")\n",
    "    exit()"
   ]
  },
  {
   "cell_type": "code",
   "execution_count": 67,
   "metadata": {},
   "outputs": [
    {
     "name": "stdout",
     "output_type": "stream",
     "text": [
      "width: 1920 height: 1200\n"
     ]
    }
   ],
   "source": [
    "frame_width = int(cap.get(cv2.CAP_PROP_FRAME_WIDTH))\n",
    "frame_height = int(cap.get(cv2.CAP_PROP_FRAME_HEIGHT))\n",
    "fps = cap.get(cv2.CAP_PROP_FPS)\n",
    "# print(\"width:\",frame_width, \"height:\", frame_height)\n",
    "fourcc = cv2.VideoWriter_fourcc(*'XVID')\n",
    "out = cv2.VideoWriter('output.mp4', fourcc, fps, (frame_width, frame_height))"
   ]
  },
  {
   "cell_type": "code",
   "execution_count": 68,
   "metadata": {},
   "outputs": [
    {
     "name": "stdout",
     "output_type": "stream",
     "text": [
      "End\n"
     ]
    }
   ],
   "source": [
    "while True:\n",
    "    # 讀取影片的每一幀\n",
    "    ret, frame = cap.read()\n",
    "    \n",
    "    # 如果已經讀取到影片結尾，則退出循環\n",
    "    if not ret:\n",
    "        print(\"End\")\n",
    "        break\n",
    "    \n",
    "    # 使用 YOLOv8 模型進行物件偵測並繪製偵測框和標籤\n",
    "    results = model.predict(frame, verbose = False)\n",
    "    annotated_frame = frame.copy()\n",
    "    \n",
    "    for result in results:\n",
    "        for box in result.boxes:\n",
    "            # 取得類別名稱和置信度\n",
    "            cls = box.cls\n",
    "            conf = float(box.conf)\n",
    "            name = model.names[int(cls)]\n",
    "            \n",
    "            # 篩選出你想辨識的特定物件（例如 'car'）\n",
    "            if name == 'car':\n",
    "                # 取得偵測框的位置\n",
    "                x1, y1, x2, y2 = map(int, box.xyxy[0])\n",
    "\n",
    "                # 繪製偵測框\n",
    "                cv2.rectangle(annotated_frame, (x1, y1), (x2, y2), (0, 255, 0), 2)\n",
    "                # 繪製標籤\n",
    "                label = f\"{name} {conf:.2f}\"\n",
    "                cv2.putText(annotated_frame, label, (x1, y1 - 10), cv2.FONT_HERSHEY_SIMPLEX, 0.9, (0, 255, 0), 2)\n",
    "\n",
    "\n",
    "    # 顯示\n",
    "    # cv2.imshow('Video', frame)\n",
    "    # cv2.imshow('a', annotated_frame)\n",
    "    # height, width = annotated_frame.shape[:2]\n",
    "    # print(\"width:\",width, \"height:\", height)\n",
    "    out.write(annotated_frame)\n",
    "    # 按下 'q' 鍵退出視窗，或按下 'Esc' 鍵退出\n",
    "    key = cv2.waitKey(25) & 0xFF\n",
    "    if key == ord('q') or key == 27:  # 27 是 Esc 鍵的 ASCII 碼\n",
    "        break"
   ]
  },
  {
   "cell_type": "code",
   "execution_count": 69,
   "metadata": {},
   "outputs": [],
   "source": [
    "# 釋放影片捕捉物件並關閉所有 OpenCV 視窗\n",
    "cap.release()\n",
    "out.release()\n",
    "cv2.destroyAllWindows()"
   ]
  }
 ],
 "metadata": {
  "kernelspec": {
   "display_name": ".venv",
   "language": "python",
   "name": "python3"
  },
  "language_info": {
   "codemirror_mode": {
    "name": "ipython",
    "version": 3
   },
   "file_extension": ".py",
   "mimetype": "text/x-python",
   "name": "python",
   "nbconvert_exporter": "python",
   "pygments_lexer": "ipython3",
   "version": "3.10.11"
  }
 },
 "nbformat": 4,
 "nbformat_minor": 2
}
