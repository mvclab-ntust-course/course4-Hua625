{
 "cells": [
  {
   "cell_type": "code",
   "execution_count": null,
   "metadata": {},
   "outputs": [],
   "source": [
    "!pip install ultralytics\n",
    "!pip install roboflow"
   ]
  },
  {
   "cell_type": "code",
   "execution_count": null,
   "metadata": {},
   "outputs": [],
   "source": [
    "from roboflow import Roboflow\n",
    "from ultralytics import YOLO\n",
    "rf = Roboflow(api_key=\"uKcrt0xpJYLTAoJpdxTJ\")\n",
    "project = rf.workspace(\"plpamauricarmo\").project(\"new_amauri.plp\")\n",
    "version = project.version(3)\n",
    "dataset = version.download(\"yolov8\")\n",
    "\n",
    "model = YOLO('yolov8n.pt')\n"
   ]
  },
  {
   "cell_type": "code",
   "execution_count": null,
   "metadata": {},
   "outputs": [],
   "source": [
    "# 在訓練模型之前，需檢查data.yam中的test，train，val資料夾路徑是否正確\n",
    "results = model.train(data= '/content/New_amauri.plp-3/data.yaml', \n",
    "                      epochs=100,\n",
    "                      batch=64, \n",
    "                      imgsz=640, \n",
    "                      device=0, )"
   ]
  },
  {
   "cell_type": "code",
   "execution_count": null,
   "metadata": {},
   "outputs": [],
   "source": [
    "model = YOLO(\"/content/runs/detect/train2/weights/best.pt\")\n",
    "\n",
    "source=\"/content/New_amauri.plp-3/data.yaml\"\n",
    "\n",
    "result = model.predict(source, imgsz=640, stream=True, save=True)"
   ]
  }
 ],
 "metadata": {
  "language_info": {
   "name": "python"
  }
 },
 "nbformat": 4,
 "nbformat_minor": 2
}
